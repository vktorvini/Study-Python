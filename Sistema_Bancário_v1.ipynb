{
  "nbformat": 4,
  "nbformat_minor": 0,
  "metadata": {
    "colab": {
      "provenance": [],
      "authorship_tag": "ABX9TyNr3438ZLfRC6MjHP1ESU6D",
      "include_colab_link": true
    },
    "kernelspec": {
      "name": "python3",
      "display_name": "Python 3"
    },
    "language_info": {
      "name": "python"
    }
  },
  "cells": [
    {
      "cell_type": "markdown",
      "metadata": {
        "id": "view-in-github",
        "colab_type": "text"
      },
      "source": [
        "<a href=\"https://colab.research.google.com/github/vktorvini/Study-Python/blob/main/Sistema_Banc%C3%A1rio_v1.ipynb\" target=\"_parent\"><img src=\"https://colab.research.google.com/assets/colab-badge.svg\" alt=\"Open In Colab\"/></a>"
      ]
    },
    {
      "cell_type": "markdown",
      "source": [
        "**Sistema Bancário**"
      ],
      "metadata": {
        "id": "SQm3yZRQDKPQ"
      }
    },
    {
      "cell_type": "code",
      "source": [
        "menu = \"\"\"\n",
        "\n",
        "[d] deposito\n",
        "[s] saque\n",
        "[e] extrato\n",
        "[q] sair\n",
        "\n",
        "=> \"\"\"\n",
        "\n",
        "saldo = 0\n",
        "limite = 500\n",
        "extrato = \"\"\n",
        "numero_saques = 0\n",
        "LIMITE_SAQUES = 3\n",
        "\n",
        "while True:\n",
        " opcao = input(menu)\n",
        "\n",
        " if opcao == \"d\":\n",
        "  print('Depósito')\n",
        "  deposito = float(input(\"Digite o valor do depósito:R$  \"))\n",
        "  if deposito > 0:\n",
        "    saldo = saldo + deposito\n",
        "    print(\"Deposito  de R$ %.2f efetuado com sucesso.\"% (deposito))\n",
        "    extrato = extrato +\"deposito de R$ %.2f\" %(deposito)\n",
        "  else:\n",
        "     print(\"Deposito não efetuado\")\n",
        "\n",
        "\n",
        " elif opcao == \"s\":\n",
        "    print('Saque')\n",
        "    if numero_saques < 3:\n",
        "      saque = float(input(\"Digite o valor do saque:R$ \"))\n",
        "      if saque <= limite:\n",
        "        if saque < saldo:\n",
        "          saldo = saldo - saque\n",
        "          print('Saque realizado com sucesso, saldo de R$ %.2f '% (saldo))\n",
        "        else:\n",
        "          print('Saldo insuficiente, operação nao realizada')\n",
        "        numero_saques += 1\n",
        "        LIMITE_SAQUES -= 1\n",
        "        extrato = extrato + \" Saque de R$ %.2f\" %(saque)\n",
        "      else:\n",
        "        print('Operação não realizada,valor maior que o limite de saque')\n",
        "    else:\n",
        "      print('Limite diário atingido')\n",
        "\n",
        "\n",
        "\n",
        " elif opcao == \"e\":\n",
        "    print('Extrato')\n",
        "    print(extrato)\n",
        "    print(\"seu saldo é de R$ %.2f\" %(saldo))\n",
        "\n",
        "\n",
        "\n",
        " elif opcao == \"q\":\n",
        "    break\n",
        " else:\n",
        "    print(\"Operação inválida, por favor selecione novamente a operação desejada.\")\n"
      ],
      "metadata": {
        "colab": {
          "base_uri": "https://localhost:8080/"
        },
        "id": "sJsazgBTDNtu",
        "outputId": "5ce1b41a-9fde-4852-9772-5ea811f0763e"
      },
      "execution_count": null,
      "outputs": [
        {
          "output_type": "stream",
          "name": "stdout",
          "text": [
            "\n",
            "\n",
            "[d] deposito\n",
            "[s] saque\n",
            "[e] extrato\n",
            "[q] sair\n",
            "\n",
            "=> D\n",
            "Operação inválida, por favor selecione novamente a operação desejada.\n",
            "\n",
            "\n",
            "[d] deposito\n",
            "[s] saque\n",
            "[e] extrato\n",
            "[q] sair\n",
            "\n",
            "=> e\n",
            "Extrato\n",
            "\n",
            "seu saldo é de R$ 0.00\n"
          ]
        }
      ]
    }
  ]
}